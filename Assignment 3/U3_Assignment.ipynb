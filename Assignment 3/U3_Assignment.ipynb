{
 "cells": [
  {
   "cell_type": "markdown",
   "id": "4416ab85",
   "metadata": {},
   "source": [
    "Name | Matr.Nr. | Due Date\n",
    ":--- | ---: | ---:\n",
    "Ayse Sude Baki | 12211229 | 27.04.2023, 08:00"
   ]
  },
  {
   "cell_type": "markdown",
   "id": "d8c6b10f",
   "metadata": {},
   "source": [
    "<h1 style=\"color:rgb(0,120,170)\">Hands-on AI II</h1>\n",
    "<h2 style=\"color:rgb(0,120,170)\">Unit 3 &ndash; Drug Discovery (Assignment)</h2>"
   ]
  },
  {
   "cell_type": "markdown",
   "id": "2858b402",
   "metadata": {},
   "source": [
    "<b>Authors:</b> B. Schäfl, S. Lehner, J. Schimunek, J. Brandstetter, E. Kobler<br>\n",
    "<b>Date:</b> 18-04-2023\n",
    "\n",
    "This file is part of the \"Hands-on AI II\" lecture material. The following copyright statement applies to all code within this file.\n",
    "\n",
    "<b>Copyright statement:</b><br>\n",
    "This material, no matter whether in printed or electronic form, may be used for personal and non-commercial educational use only. Any reproduction of this material, no matter whether as a whole or in parts, no matter whether in printed or in electronic form, requires explicit prior acceptance of the authors."
   ]
  },
  {
   "cell_type": "markdown",
   "id": "eb09de07",
   "metadata": {},
   "source": [
    "<h3 style=\"color:rgb(0,120,170)\">How to use this notebook</h3>\n",
    "\n",
    "This notebook is designed to run from start to finish. There are different tasks (displayed in <span style=\"color:rgb(248,138,36)\">orange boxes</span>) which require your contribution (in form of code, plain text, ...). Most/All of the supplied functions are imported from the file <code>u3_utils.py</code> which can be seen and treated as a black box. However, for further understanding, you can look at the implementations of the helper functions. In order to run this notebook, the packages which are imported at the beginning of <code>u3_utils.py</code> need to be installed."
   ]
  },
  {
   "cell_type": "code",
   "execution_count": 1,
   "id": "98fa836f",
   "metadata": {},
   "outputs": [
    {
     "name": "stdout",
     "output_type": "stream",
     "text": [
      "Installed Python version: 3.9 (✓)\n",
      "Installed numpy version: 1.21.5 (✓)\n",
      "Installed pandas version: 1.4.4 (✓)\n",
      "Installed scikit-learn version: 1.2.2 (✓)\n",
      "Installed matplotlib version: 3.5.2 (✓)\n",
      "Installed seaborn version: 0.11.2 (✓)\n",
      "Installed PIL version: 9.2.0 (✓)\n",
      "Installed rdkit version: 2022.09.5 (✓)\n"
     ]
    }
   ],
   "source": [
    "# Import pre-defined utilities specific to this notebook.\n",
    "import u3_utils as u3\n",
    "\n",
    "# Import additional utilities needed in this notebook.\n",
    "import numpy as np\n",
    "import pandas as pd\n",
    "import seaborn as sns\n",
    "\n",
    "from copy import deepcopy\n",
    "from rdkit import Chem\n",
    "\n",
    "# Set default plotting style.\n",
    "sns.set()\n",
    "\n",
    "# Setup Jupyter notebook (warning: this may affect all Jupyter notebooks running on the same Jupyter server).\n",
    "u3.setup_jupyter()\n",
    "\n",
    "# Check minimum versions.\n",
    "u3.check_module_versions()"
   ]
  },
  {
   "cell_type": "markdown",
   "id": "efabcd96",
   "metadata": {},
   "source": [
    "<h2>Extracting Information of MOL/SDF Representations</h2>\n",
    "<p>The first step of working with molecule data is actually getting them into memory. <tt>RDKit</tt> provides this functionality with <code>SDMolSupplier</code> – be aware that the specified file is <i>not</i> loaded at once, but piece by piece, depending on what information is retrieved. This behavior is solely for performance reasons, hence you do not need to worry about this besides <i>not</i> deleting/moving the specified data file during the whole process.</p>"
   ]
  },
  {
   "cell_type": "markdown",
   "id": "d9a41cf3",
   "metadata": {},
   "source": [
    "<div class=\"alert alert-warning\">\n",
    "    <b>Exercise 1.1. [15 Points]</b>\n",
    "    <ul>\n",
    "        <li>Load the <i>molecule</i> data set <tt>molecules.sdf</tt> using the appropriate function as supplied by <tt>RDKit</tt>.</li>\n",
    "        <li>To avoid any problems with the <i>lazy</i> loading mechanics of <tt>RDKit</tt>, print the total amount of loaded molecules.</li>\n",
    "        <li>Visualize the $8$ molecules with the <i>lowest LogP</i> values in a <i>$2\\times 4$ grid</i> including their <i>Formulas</i> as well as their <i>LogP</i> values.</li>\n",
    "        <li>What does the acronym <i>LogP</i> stand for? Which property do the extracted molecules share? Cite your sources (find an appropriate source, even if you know it by heart).</li>\n",
    "    </ul>\n",
    "</div>"
   ]
  },
  {
   "cell_type": "code",
   "execution_count": 15,
   "id": "b26dd9f1",
   "metadata": {},
   "outputs": [
    {
     "name": "stdout",
     "output_type": "stream",
     "text": [
      "218 molecules loaded from file.\n"
     ]
    },
    {
     "name": "stderr",
     "output_type": "stream",
     "text": [
      "[07:19:39] \n",
      "\n",
      "****\n",
      "Pre-condition Violation\n",
      "no draw context\n",
      "Violation occurred on line 214 in file C:\\rdkit\\build\\temp.win-amd64-cpython-39\\Release\\rdkit\\Code\\GraphMol\\MolDraw2D\\MolDraw2DCairo.cpp\n",
      "Failed Expression: dp_cr\n",
      "****\n",
      "\n"
     ]
    },
    {
     "ename": "RuntimeError",
     "evalue": "Pre-condition Violation\n\tno draw context\n\tViolation occurred on line 214 in file Code\\GraphMol\\MolDraw2D\\MolDraw2DCairo.cpp\n\tFailed Expression: dp_cr\n\tRDKIT: 2022.09.5\n\tBOOST: 1_78\n",
     "output_type": "error",
     "traceback": [
      "\u001b[1;31m---------------------------------------------------------------------------\u001b[0m",
      "\u001b[1;31mRuntimeError\u001b[0m                              Traceback (most recent call last)",
      "\u001b[1;32m~\\AppData\\Local\\Temp\\ipykernel_18300\\789042529.py\u001b[0m in \u001b[0;36m<module>\u001b[1;34m\u001b[0m\n\u001b[0;32m     16\u001b[0m \u001b[1;33m\u001b[0m\u001b[0m\n\u001b[0;32m     17\u001b[0m \u001b[1;31m# Draw molecules as a grid image\u001b[0m\u001b[1;33m\u001b[0m\u001b[1;33m\u001b[0m\u001b[0m\n\u001b[1;32m---> 18\u001b[1;33m Chem.Draw.MolsToGridImage(\n\u001b[0m\u001b[0;32m     19\u001b[0m     \u001b[0mspecific_molecules\u001b[0m\u001b[1;33m[\u001b[0m\u001b[1;33m:\u001b[0m\u001b[1;36m8\u001b[0m\u001b[1;33m]\u001b[0m\u001b[1;33m,\u001b[0m  \u001b[1;31m# display first 8 molecules\u001b[0m\u001b[1;33m\u001b[0m\u001b[1;33m\u001b[0m\u001b[0m\n\u001b[0;32m     20\u001b[0m     \u001b[0mlegends\u001b[0m\u001b[1;33m=\u001b[0m\u001b[0mspecific_molecule_labels\u001b[0m\u001b[1;33m,\u001b[0m\u001b[1;33m\u001b[0m\u001b[1;33m\u001b[0m\u001b[0m\n",
      "\u001b[1;32m~\\anaconda3\\lib\\site-packages\\rdkit\\Chem\\Draw\\IPythonConsole.py\u001b[0m in \u001b[0;36mShowMols\u001b[1;34m(mols, maxMols, **kwargs)\u001b[0m\n\u001b[0;32m    266\u001b[0m     \u001b[0mkwargs\u001b[0m\u001b[1;33m[\u001b[0m\u001b[1;34m\"drawOptions\"\u001b[0m\u001b[1;33m]\u001b[0m \u001b[1;33m=\u001b[0m \u001b[0mdrawOptions\u001b[0m\u001b[1;33m\u001b[0m\u001b[1;33m\u001b[0m\u001b[0m\n\u001b[0;32m    267\u001b[0m \u001b[1;33m\u001b[0m\u001b[0m\n\u001b[1;32m--> 268\u001b[1;33m   \u001b[0mres\u001b[0m \u001b[1;33m=\u001b[0m \u001b[0mfn\u001b[0m\u001b[1;33m(\u001b[0m\u001b[0mmols\u001b[0m\u001b[1;33m,\u001b[0m \u001b[1;33m**\u001b[0m\u001b[0mkwargs\u001b[0m\u001b[1;33m)\u001b[0m\u001b[1;33m\u001b[0m\u001b[1;33m\u001b[0m\u001b[0m\n\u001b[0m\u001b[0;32m    269\u001b[0m   \u001b[1;32mif\u001b[0m \u001b[0mInteractiveRenderer\u001b[0m\u001b[1;33m.\u001b[0m\u001b[0misEnabled\u001b[0m\u001b[1;33m(\u001b[0m\u001b[1;33m)\u001b[0m\u001b[1;33m:\u001b[0m\u001b[1;33m\u001b[0m\u001b[1;33m\u001b[0m\u001b[0m\n\u001b[0;32m    270\u001b[0m     \u001b[1;32mreturn\u001b[0m \u001b[0mHTML\u001b[0m\u001b[1;33m(\u001b[0m\u001b[0mres\u001b[0m\u001b[1;33m)\u001b[0m\u001b[1;33m\u001b[0m\u001b[1;33m\u001b[0m\u001b[0m\n",
      "\u001b[1;32m~\\anaconda3\\lib\\site-packages\\rdkit\\Chem\\Draw\\__init__.py\u001b[0m in \u001b[0;36mMolsToGridImage\u001b[1;34m(mols, molsPerRow, subImgSize, legends, highlightAtomLists, highlightBondLists, useSVG, returnPNG, **kwargs)\u001b[0m\n\u001b[0;32m    620\u001b[0m                           highlightBondLists=highlightBondLists, **kwargs)\n\u001b[0;32m    621\u001b[0m   \u001b[1;32melse\u001b[0m\u001b[1;33m:\u001b[0m\u001b[1;33m\u001b[0m\u001b[1;33m\u001b[0m\u001b[0m\n\u001b[1;32m--> 622\u001b[1;33m     return _MolsToGridImage(mols, molsPerRow=molsPerRow, subImgSize=subImgSize, legends=legends,\n\u001b[0m\u001b[0;32m    623\u001b[0m                             \u001b[0mhighlightAtomLists\u001b[0m\u001b[1;33m=\u001b[0m\u001b[0mhighlightAtomLists\u001b[0m\u001b[1;33m,\u001b[0m\u001b[1;33m\u001b[0m\u001b[1;33m\u001b[0m\u001b[0m\n\u001b[0;32m    624\u001b[0m                             highlightBondLists=highlightBondLists, returnPNG=returnPNG, **kwargs)\n",
      "\u001b[1;32m~\\anaconda3\\lib\\site-packages\\rdkit\\Chem\\Draw\\__init__.py\u001b[0m in \u001b[0;36m_MolsToGridImage\u001b[1;34m(mols, molsPerRow, subImgSize, legends, highlightAtomLists, highlightBondLists, drawOptions, returnPNG, **kwargs)\u001b[0m\n\u001b[0;32m    569\u001b[0m       \u001b[0mres\u001b[0m \u001b[1;33m=\u001b[0m \u001b[0m_drawerToImage\u001b[0m\u001b[1;33m(\u001b[0m\u001b[0md2d\u001b[0m\u001b[1;33m)\u001b[0m\u001b[1;33m\u001b[0m\u001b[1;33m\u001b[0m\u001b[0m\n\u001b[0;32m    570\u001b[0m     \u001b[1;32melse\u001b[0m\u001b[1;33m:\u001b[0m\u001b[1;33m\u001b[0m\u001b[1;33m\u001b[0m\u001b[0m\n\u001b[1;32m--> 571\u001b[1;33m       \u001b[0mres\u001b[0m \u001b[1;33m=\u001b[0m \u001b[0md2d\u001b[0m\u001b[1;33m.\u001b[0m\u001b[0mGetDrawingText\u001b[0m\u001b[1;33m(\u001b[0m\u001b[1;33m)\u001b[0m\u001b[1;33m\u001b[0m\u001b[1;33m\u001b[0m\u001b[0m\n\u001b[0m\u001b[0;32m    572\u001b[0m \u001b[1;33m\u001b[0m\u001b[0m\n\u001b[0;32m    573\u001b[0m   \u001b[1;32mreturn\u001b[0m \u001b[0mres\u001b[0m\u001b[1;33m\u001b[0m\u001b[1;33m\u001b[0m\u001b[0m\n",
      "\u001b[1;31mRuntimeError\u001b[0m: Pre-condition Violation\n\tno draw context\n\tViolation occurred on line 214 in file Code\\GraphMol\\MolDraw2D\\MolDraw2DCairo.cpp\n\tFailed Expression: dp_cr\n\tRDKIT: 2022.09.5\n\tBOOST: 1_78\n"
     ]
    }
   ],
   "source": [
    "#Load the dataset\n",
    "data_molecules = Chem.SDMolSupplier('resources/molecules.sdf')\n",
    "molecules = []\n",
    "\n",
    "#print the dataset\n",
    "num_molecules = len(data_molecules)\n",
    "print(f'{num_molecules} molecules loaded from file.')\n",
    "sorted_lps = {i: mol.GetProp(\"LogP\") for i, mol in enumerate(molecules)}\n",
    "sorted_lps = dict(sorted(sorted_lps.items(), key=lambda x: x[1]))\n",
    "\n",
    "# Select specific molecules\n",
    "specific_molecules = [molecules[i[0]] for i in list(sorted_lps.items())]\n",
    "\n",
    "# Generate labels for specific molecules\n",
    "specific_molecule_labels = [f'{mol.GetProp(\"Formula\")}: {mol.GetProp(\"LogP\")}' for mol in specific_molecules]\n",
    "\n",
    "# Draw molecules as a grid image\n",
    "Chem.Draw.MolsToGridImage(\n",
    "    specific_molecules[:8],  # display first 8 molecules\n",
    "    legends=specific_molecule_labels,\n",
    "    molsPerRow=4,  # display 4 molecules per row\n",
    "    subImgSize=(300, 300)  # set size of each subimage\n",
    ")"
   ]
  },
  {
   "cell_type": "markdown",
   "id": "18882857",
   "metadata": {},
   "source": [
    "<div class=\"alert alert-warning\">\n",
    "    <b>Exercise 1.2. [10 Points]</b>\n",
    "    <ul>\n",
    "        <li>For each of the previously found molecules, <i>annote</i> each atom by its degree and compute each molecule's <i>atom count</i>.</li>\n",
    "        <li>Visualize the result in a <i> $2\\times 4$ grid</i> including their <i>Formulas</i> as well as their <i>atom counts</i> (sorted in descending order according to <i>atom count</i>).</li>\n",
    "        <li>Do you observe <i>visually similar</i> molecules? In either case, comment on their respective differences.</li>\n",
    "    </ul>\n",
    "</div>"
   ]
  },
  {
   "cell_type": "code",
   "execution_count": null,
   "id": "58e2f65b",
   "metadata": {},
   "outputs": [],
   "source": [
    "def annotate_molecule_atoms(molecule: Chem.rdchem.Mol) -> Chem.rdchem.Mol:\n",
    "    \"\"\"\n",
    "    Annotate molecule atoms with its degree.\n",
    "    \n",
    "    :param molecule: molecule to annotate\n",
    "    :return: annotated molecule\n",
    "    \"\"\"\n",
    "    molecule_annotated = deepcopy(molecule)\n",
    "    for atom in molecule_annotated.GetAtoms():\n",
    "        atom.SetProp('atomNote', str(atom.GetDegree()))\n",
    "    return molecule_annotated"
   ]
  },
  {
   "cell_type": "code",
   "execution_count": null,
   "id": "3ed211fd",
   "metadata": {},
   "outputs": [],
   "source": [
    "# your code goes here"
   ]
  },
  {
   "cell_type": "markdown",
   "id": "4559f482",
   "metadata": {},
   "source": [
    "<h2>Atomic Properties and Bonds</h2>\n",
    "<p>Extracting <i>atomic</i> as well as <i>bond</i> properties often allows for a more thorough undertstanding of the molecules at hand. Unsurprisingly, <tt>RDKit</tt> provides the necessary functionality for this purpose – almost. The missing functionality may be taken from the exercise notebook, but needs to be adapted accordingly.</p>"
   ]
  },
  {
   "cell_type": "markdown",
   "id": "42294292",
   "metadata": {},
   "source": [
    "<div class=\"alert alert-warning\">\n",
    "    <b>Exercise 2.1. [10 Points]</b>\n",
    "    <ul>\n",
    "        <li>Compute the <i>amount of atoms</i> participating in a <i>ring structure</i> for each of the molecules of the previous exercise.</li>\n",
    "        <li>Adapt and apply <code>annotate_molecule_atoms</code> in a way to annotate an atom with an <tt>R</tt> if it is <i>participating</i> in a ring structure.</li>\n",
    "        <li>Visualize the result in a <i> $2\\times 4$ grid</i> including their <i>Formulas</i> as well as their <i>amount of ring atoms</i> (sorted in descending order according to the latter).</li>\n",
    "    </ul>\n",
    "</div>"
   ]
  },
  {
   "cell_type": "code",
   "execution_count": null,
   "id": "66b2d023",
   "metadata": {},
   "outputs": [],
   "source": [
    "# your code goes here"
   ]
  },
  {
   "cell_type": "markdown",
   "id": "35c60680",
   "metadata": {},
   "source": [
    "<div class=\"alert alert-warning\">\n",
    "    <b>Exercise 2.2. [10 Points]</b>\n",
    "    <ul>\n",
    "        <li>Compute the <i>amount of double-type bonds</i> for each of the molecules of the previous exercise.</li>\n",
    "        <li>Adapt and apply <code>annotate_molecule_bonds</code> in a way to mark bonds with the <i>first letter</i> of their respective <i>type</i>.</li>\n",
    "        <li>Visualize the result in a <i> $2\\times 4$ grid</i> including their <i>Formulas</i> as well as their <i>amount of double bonds</i> (sorted in descending order according to the latter).</li>\n",
    "    </ul>\n",
    "</div>"
   ]
  },
  {
   "cell_type": "code",
   "execution_count": null,
   "id": "bfa76604",
   "metadata": {},
   "outputs": [],
   "source": [
    "# your code goes here"
   ]
  },
  {
   "cell_type": "markdown",
   "id": "136f868e",
   "metadata": {},
   "source": [
    "<h2>Further Applications</h2>\n",
    "<p>In the following exercises, you'll have to dig into the more interesting applications of chemoinformatics, namely:\n",
    "<ul>\n",
    "    <li>molecular substructure matching</li>\n",
    "    <li>molecular fingerprints</li>\n",
    "    <li>molecular clustering</li>\n",
    "</ul></p>"
   ]
  },
  {
   "cell_type": "markdown",
   "id": "b5a8700a",
   "metadata": {},
   "source": [
    "<div class=\"alert alert-warning\">\n",
    "    <b>Exercise 3.1. [10 Points]</b>\n",
    "    <ul>\n",
    "        <li>Specify a <tt>CCO</tt> template and scan the full molecules data set. Visualize the template including a respective <i>atom numbering</i>.</li>\n",
    "        <li>For each of the found molecules, <i>annote</i> their atoms and compute their respective <i>substructure matches</i> (w.r.t. <tt>CCO</tt>).</li>\n",
    "        <li>Visualize the result in a <i>grid</i> including their <i>substructure matches</i>. Can you recognize the substructures in the plot?</li>\n",
    "    </ul>\n",
    "</div>"
   ]
  },
  {
   "cell_type": "code",
   "execution_count": null,
   "id": "31570595",
   "metadata": {},
   "outputs": [],
   "source": [
    "# your code goes here"
   ]
  },
  {
   "cell_type": "markdown",
   "id": "b196efbe",
   "metadata": {},
   "source": [
    "<div class=\"alert alert-warning\">\n",
    "    <b>Exercise 3.2. [20 Points]</b>\n",
    "    <ul>\n",
    "        <li>Compute the <i>ECFPs</i> from the previously found molecules and visualize them in tabular form (use a <i>fold size</i> of $256$).</li>\n",
    "        <li>How many <i>substructures</i> are present in each molecule? Compute and sort their <i>total amount</i> for each molecule.</li>\n",
    "    </ul>\n",
    "</div>"
   ]
  },
  {
   "cell_type": "code",
   "execution_count": null,
   "id": "6b71a814",
   "metadata": {},
   "outputs": [],
   "source": [
    "# your code goes here"
   ]
  },
  {
   "cell_type": "markdown",
   "id": "f0992349",
   "metadata": {},
   "source": [
    "<div class=\"alert alert-warning\">\n",
    "    <b>Exercise 3.3. [25 Points]</b>\n",
    "    <ul>\n",
    "        <li>Downproject the previously computed <i>ECFPs</i> using <i>t-SNE</i> (use a seed of $42$, and a perplexity of $3.0$).</li>\n",
    "        <li>Visualize the result in a <i>scatter plot</i>. Are there any visible clusters?</li>\n",
    "            <li>Cluster the resulting downprojections using <i>affinity propagation</i>. Why would <i>k-means</i> be a little bit disadvantageous here?</li>\n",
    "        <li>Plot all molecules of all <i>clusters</i> in separate <i>grids</i> including their <i>Compound Name</i> and <i>LogP</i>. Do you see similarities?</li>\n",
    "    </ul>\n",
    "</div>"
   ]
  },
  {
   "cell_type": "code",
   "execution_count": null,
   "id": "bf611416",
   "metadata": {},
   "outputs": [],
   "source": [
    "# your code goes here"
   ]
  }
 ],
 "metadata": {
  "kernelspec": {
   "display_name": "Python 3 (ipykernel)",
   "language": "python",
   "name": "python3"
  },
  "language_info": {
   "codemirror_mode": {
    "name": "ipython",
    "version": 3
   },
   "file_extension": ".py",
   "mimetype": "text/x-python",
   "name": "python",
   "nbconvert_exporter": "python",
   "pygments_lexer": "ipython3",
   "version": "3.9.13"
  }
 },
 "nbformat": 4,
 "nbformat_minor": 5
}
